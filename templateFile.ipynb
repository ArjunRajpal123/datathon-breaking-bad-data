{
 "cells": [
  {
   "cell_type": "code",
   "execution_count": null,
   "metadata": {},
   "outputs": [],
   "source": [
    "# Template File "
   ]
  },
  {
   "cell_type": "code",
   "execution_count": 4,
   "metadata": {},
   "outputs": [],
   "source": [
    "import pandas as pd\n",
    "import numpy as np\n",
    "import matplotlib.pyplot as plt\n",
    "import re\n"
   ]
  },
  {
   "cell_type": "markdown",
   "metadata": {},
   "source": [
    "## Function for Pre-processing Text\n",
    "### Params - text (string)"
   ]
  },
  {
   "cell_type": "code",
   "execution_count": 2,
   "metadata": {},
   "outputs": [
    {
     "data": {
      "text/html": [
       "<div>\n",
       "<style scoped>\n",
       "    .dataframe tbody tr th:only-of-type {\n",
       "        vertical-align: middle;\n",
       "    }\n",
       "\n",
       "    .dataframe tbody tr th {\n",
       "        vertical-align: top;\n",
       "    }\n",
       "\n",
       "    .dataframe thead th {\n",
       "        text-align: right;\n",
       "    }\n",
       "</style>\n",
       "<table border=\"1\" class=\"dataframe\">\n",
       "  <thead>\n",
       "    <tr style=\"text-align: right;\">\n",
       "      <th></th>\n",
       "      <th>title</th>\n",
       "      <th>link</th>\n",
       "      <th>date</th>\n",
       "      <th>source</th>\n",
       "      <th>country</th>\n",
       "      <th>language</th>\n",
       "      <th>translated_title</th>\n",
       "      <th>number_of_characters_title</th>\n",
       "      <th>number_of_words_title</th>\n",
       "      <th>day_of_week</th>\n",
       "      <th>...</th>\n",
       "      <th>is_weekend</th>\n",
       "      <th>is_holiday</th>\n",
       "      <th>source_type</th>\n",
       "      <th>final_redirected_URL</th>\n",
       "      <th>domain_of_URL</th>\n",
       "      <th>subdomain_of_URL</th>\n",
       "      <th>URL_depth</th>\n",
       "      <th>top_level_domain</th>\n",
       "      <th>url_length</th>\n",
       "      <th>author</th>\n",
       "    </tr>\n",
       "  </thead>\n",
       "  <tbody>\n",
       "    <tr>\n",
       "      <th>0</th>\n",
       "      <td>Kann künstliche Intelligenz Smalltalk ersetzen...</td>\n",
       "      <td>https://news.google.com/rss/articles/CBMiY2h0d...</td>\n",
       "      <td>2023-11-12</td>\n",
       "      <td>Blick</td>\n",
       "      <td>US</td>\n",
       "      <td>de</td>\n",
       "      <td>Can artificial intelligence replace small talk...</td>\n",
       "      <td>47</td>\n",
       "      <td>8</td>\n",
       "      <td>Sunday</td>\n",
       "      <td>...</td>\n",
       "      <td>True</td>\n",
       "      <td>False</td>\n",
       "      <td>News Outlet</td>\n",
       "      <td>https://www.blick.ch/schweiz/linguistik-profes...</td>\n",
       "      <td>www.blick.ch</td>\n",
       "      <td>www</td>\n",
       "      <td>2</td>\n",
       "      <td>ch</td>\n",
       "      <td>99</td>\n",
       "      <td>[]</td>\n",
       "    </tr>\n",
       "    <tr>\n",
       "      <th>1</th>\n",
       "      <td>Lidé se snadněji svěří chatbotům. Emocionální ...</td>\n",
       "      <td>https://news.google.com/rss/articles/CBMidmh0d...</td>\n",
       "      <td>2023-11-12</td>\n",
       "      <td>iDNES.cz</td>\n",
       "      <td>US</td>\n",
       "      <td>cs</td>\n",
       "      <td>People trust chatbots more easily. Emotional A...</td>\n",
       "      <td>72</td>\n",
       "      <td>13</td>\n",
       "      <td>Sunday</td>\n",
       "      <td>...</td>\n",
       "      <td>True</td>\n",
       "      <td>False</td>\n",
       "      <td>Other</td>\n",
       "      <td>https://www.idnes.cz/zpravy/domaci/ai-umela-in...</td>\n",
       "      <td>www.idnes.cz</td>\n",
       "      <td>www</td>\n",
       "      <td>3</td>\n",
       "      <td>cz</td>\n",
       "      <td>118</td>\n",
       "      <td>['Autor']</td>\n",
       "    </tr>\n",
       "    <tr>\n",
       "      <th>2</th>\n",
       "      <td>¿Cómo implementar la IA en el comercio online?...</td>\n",
       "      <td>https://news.google.com/rss/articles/CBMicmh0d...</td>\n",
       "      <td>2023-11-12</td>\n",
       "      <td>RRHH Digital</td>\n",
       "      <td>US</td>\n",
       "      <td>es</td>\n",
       "      <td>How to implement AI in online commerce? - Digi...</td>\n",
       "      <td>43</td>\n",
       "      <td>10</td>\n",
       "      <td>Sunday</td>\n",
       "      <td>...</td>\n",
       "      <td>True</td>\n",
       "      <td>False</td>\n",
       "      <td>News Outlet</td>\n",
       "      <td>https://www.rrhhdigital.com/secciones/tecnolog...</td>\n",
       "      <td>www.rrhhdigital.com</td>\n",
       "      <td>www</td>\n",
       "      <td>5</td>\n",
       "      <td>com</td>\n",
       "      <td>114</td>\n",
       "      <td>[]</td>\n",
       "    </tr>\n",
       "    <tr>\n",
       "      <th>3</th>\n",
       "      <td>Kontrolle von KI: Vorsicht, KI! | ZEIT ONLINE ...</td>\n",
       "      <td>https://news.google.com/rss/articles/CBMiXWh0d...</td>\n",
       "      <td>2023-11-12</td>\n",
       "      <td>ZEIT ONLINE English</td>\n",
       "      <td>US</td>\n",
       "      <td>de</td>\n",
       "      <td>Controlling AI: Be careful, AI! | ZEIT ONLINE ...</td>\n",
       "      <td>56</td>\n",
       "      <td>12</td>\n",
       "      <td>Sunday</td>\n",
       "      <td>...</td>\n",
       "      <td>True</td>\n",
       "      <td>False</td>\n",
       "      <td>Other</td>\n",
       "      <td>https://www.zeit.de/zeit-wissen/2023/06/kuenst...</td>\n",
       "      <td>www.zeit.de</td>\n",
       "      <td>www</td>\n",
       "      <td>4</td>\n",
       "      <td>de</td>\n",
       "      <td>93</td>\n",
       "      <td>[]</td>\n",
       "    </tr>\n",
       "    <tr>\n",
       "      <th>4</th>\n",
       "      <td>Los consejos para ganar la lotería de la Intel...</td>\n",
       "      <td>https://news.google.com/rss/articles/CBMiXWh0d...</td>\n",
       "      <td>2023-11-12</td>\n",
       "      <td>C5N</td>\n",
       "      <td>US</td>\n",
       "      <td>es</td>\n",
       "      <td>Tips to win the Artificial Intelligence lotter...</td>\n",
       "      <td>45</td>\n",
       "      <td>9</td>\n",
       "      <td>Sunday</td>\n",
       "      <td>...</td>\n",
       "      <td>True</td>\n",
       "      <td>False</td>\n",
       "      <td>Other</td>\n",
       "      <td>https://www.c5n.com/sociedad/los-consejos-gana...</td>\n",
       "      <td>www.c5n.com</td>\n",
       "      <td>www</td>\n",
       "      <td>2</td>\n",
       "      <td>com</td>\n",
       "      <td>93</td>\n",
       "      <td>[]</td>\n",
       "    </tr>\n",
       "  </tbody>\n",
       "</table>\n",
       "<p>5 rows × 23 columns</p>\n",
       "</div>"
      ],
      "text/plain": [
       "                                               title  \\\n",
       "0  Kann künstliche Intelligenz Smalltalk ersetzen...   \n",
       "1  Lidé se snadněji svěří chatbotům. Emocionální ...   \n",
       "2  ¿Cómo implementar la IA en el comercio online?...   \n",
       "3  Kontrolle von KI: Vorsicht, KI! | ZEIT ONLINE ...   \n",
       "4  Los consejos para ganar la lotería de la Intel...   \n",
       "\n",
       "                                                link        date  \\\n",
       "0  https://news.google.com/rss/articles/CBMiY2h0d...  2023-11-12   \n",
       "1  https://news.google.com/rss/articles/CBMidmh0d...  2023-11-12   \n",
       "2  https://news.google.com/rss/articles/CBMicmh0d...  2023-11-12   \n",
       "3  https://news.google.com/rss/articles/CBMiXWh0d...  2023-11-12   \n",
       "4  https://news.google.com/rss/articles/CBMiXWh0d...  2023-11-12   \n",
       "\n",
       "                source country language  \\\n",
       "0                Blick      US       de   \n",
       "1             iDNES.cz      US       cs   \n",
       "2         RRHH Digital      US       es   \n",
       "3  ZEIT ONLINE English      US       de   \n",
       "4                  C5N      US       es   \n",
       "\n",
       "                                    translated_title  \\\n",
       "0  Can artificial intelligence replace small talk...   \n",
       "1  People trust chatbots more easily. Emotional A...   \n",
       "2  How to implement AI in online commerce? - Digi...   \n",
       "3  Controlling AI: Be careful, AI! | ZEIT ONLINE ...   \n",
       "4  Tips to win the Artificial Intelligence lotter...   \n",
       "\n",
       "   number_of_characters_title  number_of_words_title day_of_week  ...  \\\n",
       "0                          47                      8      Sunday  ...   \n",
       "1                          72                     13      Sunday  ...   \n",
       "2                          43                     10      Sunday  ...   \n",
       "3                          56                     12      Sunday  ...   \n",
       "4                          45                      9      Sunday  ...   \n",
       "\n",
       "   is_weekend  is_holiday  source_type  \\\n",
       "0        True       False  News Outlet   \n",
       "1        True       False        Other   \n",
       "2        True       False  News Outlet   \n",
       "3        True       False        Other   \n",
       "4        True       False        Other   \n",
       "\n",
       "                                final_redirected_URL        domain_of_URL  \\\n",
       "0  https://www.blick.ch/schweiz/linguistik-profes...         www.blick.ch   \n",
       "1  https://www.idnes.cz/zpravy/domaci/ai-umela-in...         www.idnes.cz   \n",
       "2  https://www.rrhhdigital.com/secciones/tecnolog...  www.rrhhdigital.com   \n",
       "3  https://www.zeit.de/zeit-wissen/2023/06/kuenst...          www.zeit.de   \n",
       "4  https://www.c5n.com/sociedad/los-consejos-gana...          www.c5n.com   \n",
       "\n",
       "  subdomain_of_URL URL_depth top_level_domain url_length     author  \n",
       "0              www         2               ch         99         []  \n",
       "1              www         3               cz        118  ['Autor']  \n",
       "2              www         5              com        114         []  \n",
       "3              www         4               de         93         []  \n",
       "4              www         2              com         93         []  \n",
       "\n",
       "[5 rows x 23 columns]"
      ]
     },
     "execution_count": 2,
     "metadata": {},
     "output_type": "execute_result"
    }
   ],
   "source": [
    "df = pd.read_csv('./data/Dataset_10k.csv')\n",
    "df.head()"
   ]
  },
  {
   "cell_type": "code",
   "execution_count": 7,
   "metadata": {},
   "outputs": [
    {
     "data": {
      "text/plain": [
       "0    [can, artificial, intelligence, replace, small...\n",
       "1    [people, trust, chatbots, more, easily, emotio...\n",
       "2    [how, to, implement, ai, in, online, commerce,...\n",
       "3    [controlling, ai, be, careful, ai, zeit, onlin...\n",
       "4    [tips, to, win, the, artificial, intelligence,...\n",
       "Name: preprocessed, dtype: object"
      ]
     },
     "execution_count": 7,
     "metadata": {},
     "output_type": "execute_result"
    }
   ],
   "source": [
    "#for trasnslated_title create a new column called preprocesseding and \n",
    "# fill it with the translated title but removing punctuation with regex\n",
    "df['preprocessed'] = df['translated_title'].apply(lambda x: re.sub(r'[^\\w\\s]', '', x))\n",
    "#convert the preprocessed column to lowercase\n",
    "df['preprocessed'] = df['preprocessed'].str.lower()\n",
    "#split the preprocessed column into a list of words\n",
    "df['preprocessed'] = df['preprocessed'].str.split()\n",
    "df['preprocessed'].head()\n"
   ]
  },
  {
   "cell_type": "code",
   "execution_count": 10,
   "metadata": {},
   "outputs": [
    {
     "data": {
      "text/plain": [
       "0    [artificial, intelligence, replace, small, tal...\n",
       "1    [people, trust, chatbots, easily, emotional, a...\n",
       "2       [implement, ai, online, commerce, digital, hr]\n",
       "3    [controlling, ai, careful, ai, zeit, online, z...\n",
       "4    [tips, win, artificial, intelligence, lottery,...\n",
       "Name: preprocessed, dtype: object"
      ]
     },
     "execution_count": 10,
     "metadata": {},
     "output_type": "execute_result"
    }
   ],
   "source": [
    "#remove the stop words from the preprocessed column\n",
    "stop_words = ['i', 'me', 'my', 'myself', 'we', 'our', 'ours', 'ourselves', 'you', 'your', 'yours', 'yourself', 'yourselves', 'he', 'him', 'his', 'himself', 'she', 'her', 'hers', 'herself', 'it', 'its', 'itself', 'they', 'them', 'their', 'theirs', 'themselves', 'what', 'which', 'who', 'whom', 'this', 'that', 'these', 'those', 'am', 'is', 'are', 'was', 'were', 'be', 'been', 'being', 'have', 'has', 'had', 'having', 'do', 'does', 'did', 'doing', 'a', 'an', 'the', 'and', 'but', 'if', 'or', 'because', 'as', 'until', 'while', 'of', 'at', 'by', 'for', 'with', 'about', 'against', 'between', 'into', 'through', 'during', 'before', 'after', 'above', 'below', 'to', 'from', 'up', 'down', 'in', 'out', 'on', 'off', 'over', 'under', 'again', 'further', 'then', 'once', 'here', 'there', 'when', 'where', 'why', 'how', 'all', 'any', 'both', 'each', 'few', 'more', 'most', 'other', 'some', 'such', 'no', 'nor', 'not', 'only', 'own', 'same', 'so', 'than', 'too', 'very', 's', 't', 'can', 'will', 'just', 'don', 'should', 'now']\n",
    "df['preprocessed'] = df['preprocessed'].apply(lambda x: [item for item in x if item not in stop_words])\n",
    "df['preprocessed'].head()"
   ]
  },
  {
   "cell_type": "markdown",
   "metadata": {},
   "source": [
    "## Function for Producing Standard Graphs/Figures\n",
    "### Params - df with columns for ['pos', 'neg', 'neu', 'sentiment']"
   ]
  },
  {
   "cell_type": "code",
   "execution_count": null,
   "metadata": {},
   "outputs": [],
   "source": [
    "# Code goes here"
   ]
  },
  {
   "cell_type": "markdown",
   "metadata": {},
   "source": [
    "## Model setup/training below"
   ]
  },
  {
   "cell_type": "code",
   "execution_count": null,
   "metadata": {},
   "outputs": [],
   "source": [
    "# Code goes here"
   ]
  }
 ],
 "metadata": {
  "kernelspec": {
   "display_name": "Python 3",
   "language": "python",
   "name": "python3"
  },
  "language_info": {
   "codemirror_mode": {
    "name": "ipython",
    "version": 3
   },
   "file_extension": ".py",
   "mimetype": "text/x-python",
   "name": "python",
   "nbconvert_exporter": "python",
   "pygments_lexer": "ipython3",
   "version": "3.12.2"
  }
 },
 "nbformat": 4,
 "nbformat_minor": 2
}
