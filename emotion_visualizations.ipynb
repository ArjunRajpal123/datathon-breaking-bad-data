{
 "cells": [
  {
   "cell_type": "markdown",
   "metadata": {},
   "source": [
    "# Code to Produce some Additional Visualization"
   ]
  },
  {
   "cell_type": "markdown",
   "metadata": {},
   "source": [
    "## Imports"
   ]
  },
  {
   "cell_type": "code",
   "execution_count": 8,
   "metadata": {},
   "outputs": [
    {
     "name": "stderr",
     "output_type": "stream",
     "text": [
      "Duplicate key in file '/Users/arjunrajpal/.matplotlib/matplotlibrc', line 2 ('backend: TkAgg')\n"
     ]
    }
   ],
   "source": [
    "import pandas as pd\n",
    "import numpy as np\n",
    "import matplotlib.pyplot as plt"
   ]
  },
  {
   "cell_type": "code",
   "execution_count": 51,
   "metadata": {},
   "outputs": [
    {
     "name": "stdout",
     "output_type": "stream",
     "text": [
      "0       [0.4633803367614746, 0.3134734332561493, 0.063...\n",
      "1       [0.54878830909729, 0.2837536633014679, 0.19678...\n",
      "2       [0.23723463714122772, 0.10807903110980988, 0.0...\n",
      "3       [0.9766507744789124, 0.39592745900154114, 0.00...\n",
      "4       [0.08342182636260986, 0.05601058900356293, 0.0...\n",
      "                              ...                        \n",
      "9995    [0.4905838966369629, 0.4704141616821289, 0.194...\n",
      "9996    [0.36033734679222107, 0.24158532917499542, 0.0...\n",
      "9997    [0.37295758724212646, 0.3353428244590759, 0.27...\n",
      "9998    [0.11136099696159363, 0.012886486947536469, 0....\n",
      "9999    [0.5405967831611633, 0.23287628591060638, 0.16...\n",
      "Name: emotion_scores, Length: 10000, dtype: object\n"
     ]
    }
   ],
   "source": [
    "import ast\n",
    "\n",
    "df = pd.read_csv('./data/emotions_data.csv')\n",
    "print(df['emotion_scores'])\n",
    "df['emotion_label'] = df.apply(lambda row: row['emotions'][np.argmax(ast.literal_eval(row['emotion_scores']))], axis=1)"
   ]
  },
  {
   "cell_type": "code",
   "execution_count": 54,
   "metadata": {},
   "outputs": [
    {
     "name": "stdout",
     "output_type": "stream",
     "text": [
      "source            emotion_label\n",
      "\"metrology news\"  [                3\n",
      "01net             [                4\n",
      "10TV              [                1\n",
      "11Alive.com WXIA  [                1\n",
      "12news.com KPNX   [                2\n",
      "                                  ..\n",
      "한국일보              [                1\n",
      "헤럴드경제             [                1\n",
      "헬로디디              [                2\n",
      "헬스경향              [                1\n",
      "＠IT               [                1\n",
      "Length: 3247, dtype: int64\n"
     ]
    }
   ],
   "source": [
    "# Get the count of rows for each combination of 'source' and 'emotion_label'\n",
    "grouped_values = df.groupby(['source', 'emotion_label']).size()\n",
    "print(grouped_values)"
   ]
  }
 ],
 "metadata": {
  "kernelspec": {
   "display_name": ".venv",
   "language": "python",
   "name": "python3"
  },
  "language_info": {
   "codemirror_mode": {
    "name": "ipython",
    "version": 3
   },
   "file_extension": ".py",
   "mimetype": "text/x-python",
   "name": "python",
   "nbconvert_exporter": "python",
   "pygments_lexer": "ipython3",
   "version": "3.12.2"
  }
 },
 "nbformat": 4,
 "nbformat_minor": 2
}
